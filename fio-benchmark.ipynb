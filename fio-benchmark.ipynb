{
 "cells": [
  {
   "cell_type": "markdown",
   "source": [
    "<img src=\"https://upload.wikimedia.org/wikipedia/commons/c/c7/HEIG-VD_Logo_96x29_RVB_ROUGE.png\" alt=\"HEIG-VD Logo\" width=\"250\"/>\n",
    "\n",
    "# TB - DevOps: Mise en place de cloud-native storage\n",
    "## fio benchmark\n",
    "**Note**: La version de fio utilisée pour chaque benchmark va être explicitement décrite tel que la license morale (section 4 [documentation](https://fio.readthedocs.io/en/latest/fio_doc.html#moral-license) fio) nous recommande."
   ],
   "metadata": {
    "collapsed": false,
    "pycharm": {
     "name": "#%% md\n"
    }
   }
  },
  {
   "cell_type": "markdown",
   "source": [
    "## Local\n",
    "Les résultats de cette section ont été généré à l'aide de fio version 3.16 à l'aide du script `run-all-jobs.sh`."
   ],
   "metadata": {
    "collapsed": false,
    "pycharm": {
     "name": "#%% md\n"
    }
   }
  },
  {
   "cell_type": "code",
   "execution_count": 1,
   "outputs": [],
   "source": [
    "import json\n",
    "# from: https://stackoverflow.com/a/3207973\n",
    "from os import listdir\n",
    "from os.path import isfile, join\n",
    "\n",
    "fio_jobs_path = 'fio-jobs/local'\n",
    "job_outputs_filename = [f for f in listdir(fio_jobs_path) if isfile(join(fio_jobs_path, f)) and 'output' in f]"
   ],
   "metadata": {
    "collapsed": false,
    "pycharm": {
     "name": "#%%\n"
    }
   }
  },
  {
   "cell_type": "code",
   "execution_count": 2,
   "outputs": [
    {
     "name": "stdout",
     "output_type": "stream",
     "text": [
      "{'fio version': 'fio-3.16', 'timestamp': 1624716221, 'timestamp_ms': 1624716221209, 'time': 'Sat Jun 26 16:03:41 2021', 'global options': {'bs': '4K', 'iodepth': '256', 'direct': '1', 'ioengine': 'libaio', 'runtime': '120', 'numjobs': '4', 'size': '512M', 'name': 'raw-seqread', 'rw': 'read'}, 'jobs': [{'jobname': 'job1', 'groupid': 0, 'error': 0, 'eta': 0, 'elapsed': 121, 'job options': {'filename': '/dev/nvme0n1p7'}, 'read': {'io_bytes': 85691441152, 'io_kbytes': 83683048, 'bw_bytes': 714035839, 'bw': 697300, 'iops': 174325.156237, 'runtime': 120010, 'total_ios': 20920762, 'short_ios': 0, 'drop_ios': 0, 'slat_ns': {'min': 712, 'max': 318915, 'mean': 1345.356346, 'stddev': 891.144287}, 'clat_ns': {'min': 93938, 'max': 19756113, 'mean': 5872300.887986, 'stddev': 2146245.617705, 'percentile': {'1.000000': 1482752, '5.000000': 4014080, '10.000000': 4145152, '20.000000': 4227072, '30.000000': 4358144, '40.000000': 4489216, '50.000000': 5144576, '60.000000': 5406720, '70.000000': 7569408, '80.000000': 8028160, '90.000000': 9371648, '95.000000': 9895936, '99.000000': 11075584, '99.500000': 11599872, '99.900000': 12779520, '99.950000': 13303808, '99.990000': 14483456}}, 'lat_ns': {'min': 96030, 'max': 19757323, 'mean': 5873719.170813, 'stddev': 2146249.697853}, 'bw_min': 456392, 'bw_max': 940271, 'bw_agg': 99.999382, 'bw_mean': 697295.6875, 'bw_dev': 40813.563058, 'bw_samples': 960, 'iops_min': 114098, 'iops_max': 235067, 'iops_mean': 174323.904167, 'iops_stddev': 10203.391614, 'iops_samples': 960}, 'write': {'io_bytes': 0, 'io_kbytes': 0, 'bw_bytes': 0, 'bw': 0, 'iops': 0.0, 'runtime': 0, 'total_ios': 0, 'short_ios': 0, 'drop_ios': 0, 'slat_ns': {'min': 0, 'max': 0, 'mean': 0.0, 'stddev': 0.0}, 'clat_ns': {'min': 0, 'max': 0, 'mean': 0.0, 'stddev': 0.0, 'percentile': {'1.000000': 0, '5.000000': 0, '10.000000': 0, '20.000000': 0, '30.000000': 0, '40.000000': 0, '50.000000': 0, '60.000000': 0, '70.000000': 0, '80.000000': 0, '90.000000': 0, '95.000000': 0, '99.000000': 0, '99.500000': 0, '99.900000': 0, '99.950000': 0, '99.990000': 0}}, 'lat_ns': {'min': 0, 'max': 0, 'mean': 0.0, 'stddev': 0.0}, 'bw_min': 0, 'bw_max': 0, 'bw_agg': 0.0, 'bw_mean': 0.0, 'bw_dev': 0.0, 'bw_samples': 0, 'iops_min': 0, 'iops_max': 0, 'iops_mean': 0.0, 'iops_stddev': 0.0, 'iops_samples': 0}, 'trim': {'io_bytes': 0, 'io_kbytes': 0, 'bw_bytes': 0, 'bw': 0, 'iops': 0.0, 'runtime': 0, 'total_ios': 0, 'short_ios': 0, 'drop_ios': 0, 'slat_ns': {'min': 0, 'max': 0, 'mean': 0.0, 'stddev': 0.0}, 'clat_ns': {'min': 0, 'max': 0, 'mean': 0.0, 'stddev': 0.0, 'percentile': {'1.000000': 0, '5.000000': 0, '10.000000': 0, '20.000000': 0, '30.000000': 0, '40.000000': 0, '50.000000': 0, '60.000000': 0, '70.000000': 0, '80.000000': 0, '90.000000': 0, '95.000000': 0, '99.000000': 0, '99.500000': 0, '99.900000': 0, '99.950000': 0, '99.990000': 0}}, 'lat_ns': {'min': 0, 'max': 0, 'mean': 0.0, 'stddev': 0.0}, 'bw_min': 0, 'bw_max': 0, 'bw_agg': 0.0, 'bw_mean': 0.0, 'bw_dev': 0.0, 'bw_samples': 0, 'iops_min': 0, 'iops_max': 0, 'iops_mean': 0.0, 'iops_stddev': 0.0, 'iops_samples': 0}, 'sync': {'lat_ns': {'min': 0, 'max': 0, 'mean': 0.0, 'stddev': 0.0, 'percentile': {'1.000000': 0, '5.000000': 0, '10.000000': 0, '20.000000': 0, '30.000000': 0, '40.000000': 0, '50.000000': 0, '60.000000': 0, '70.000000': 0, '80.000000': 0, '90.000000': 0, '95.000000': 0, '99.000000': 0, '99.500000': 0, '99.900000': 0, '99.950000': 0, '99.990000': 0}}, 'total_ios': 0}, 'job_runtime': 480036, 'usr_cpu': 4.060945, 'sys_cpu': 11.02084, 'ctx': 17152966, 'majf': 0, 'minf': 1072, 'iodepth_level': {'1': 0.1, '2': 0.1, '4': 0.1, '8': 0.1, '16': 0.1, '32': 0.1, '>=64': 99.998795}, 'iodepth_submit': {'0': 0.0, '4': 100.0, '8': 0.0, '16': 0.0, '32': 0.0, '64': 0.0, '>=64': 0.0}, 'iodepth_complete': {'0': 0.0, '4': 99.999981, '8': 0.0, '16': 0.0, '32': 0.0, '64': 0.0, '>=64': 0.1}, 'latency_ns': {'2': 0.0, '4': 0.0, '10': 0.0, '20': 0.0, '50': 0.0, '100': 0.0, '250': 0.0, '500': 0.0, '750': 0.0, '1000': 0.0}, 'latency_us': {'2': 0.0, '4': 0.0, '10': 0.0, '20': 0.0, '50': 0.0, '100': 0.01, '250': 0.01, '500': 0.145133, '750': 0.208033, '1000': 0.217177}, 'latency_ms': {'2': 0.945821, '4': 3.353353, '10': 91.070937, '20': 4.055254, '50': 0.0, '100': 0.0, '250': 0.0, '500': 0.0, '750': 0.0, '1000': 0.0, '2000': 0.0, '>=2000': 0.0}, 'latency_depth': 256, 'latency_target': 0, 'latency_percentile': 100.0, 'latency_window': 0}], 'disk_util': [{'name': 'nvme0n1', 'read_ios': 20907495, 'write_ios': 60, 'read_merges': 0, 'write_merges': 49, 'read_ticks': 122710597, 'write_ticks': 239, 'in_queue': 122710868, 'util': 99.967487}]}\n"
     ]
    }
   ],
   "source": [
    "job_outputs = []\n",
    "\n",
    "# Load the results\n",
    "for job_output in job_outputs_filename:\n",
    "    f = open(f\"{fio_jobs_path}/{job_output}\")\n",
    "    data = json.load(f)\n",
    "    job_outputs.append(data)\n",
    "\n",
    "print(job_outputs[0])"
   ],
   "metadata": {
    "collapsed": false,
    "pycharm": {
     "name": "#%%\n"
    }
   }
  },
  {
   "cell_type": "markdown",
   "source": [
    "## Cluster IICT\n",
    "On souhaite déployer un container docker avec un PV dans le cluster IICT. Le container contient l'outil *fio* et un dossier *fio-jobs*.\n",
    "\n",
    "Architecting-it a fait des [scripts](https://github.com/architectingit/k8sstorage/blob/main/perfraw.sh) pour réaliser ses tests. On va s'inspirer de leur script pour réaliser nos tests.\n",
    "### Connection au cluster IICT\n",
    "Connectez-vous au VPN de l'école, puis:\n",
    "```bash\n",
    "kubectl config get-contexts         # is ` iict ` listed ?\n",
    "kubectl config use-context iict\n",
    "```\n",
    "\n",
    "### Manual\n",
    "Si vous désirer allez plus rapidement, sautez à la section suivante (on applique une configuration dans le cluster et récupère les résultats):\n",
    "\n",
    "```bash\n",
    "kubectl apply -f iict-fio-benchmark-manual.yaml\n",
    "```\n",
    "\n",
    "Observons quel classe de stockage sont disponibles :\n",
    "```bash\n",
    "$ kubectl get storageclass\n",
    "NAME                 PROVISIONER                                     RECLAIMPOLICY   VOLUMEBINDINGMODE   ALLOWVOLUMEEXPANSION   AGE\n",
    "longhorn (default)   driver.longhorn.io                              Delete          Immediate           true                   170d\n",
    "nfs-client           cluster.local/nfs-subdir-external-provisioner   Delete          Immediate           true                   114d\n",
    "```\n",
    "\n",
    "Nous allons donc utiliser un PVC de storageclass `longhorn`.\n",
    "\n",
    "Ensuite, on déploie un container simple:\n",
    "\n",
    "```bash\n",
    "$ kubectl apply --namespace=mercado -f iict-fio-benchmark-manual.yaml\n",
    "```\n",
    "\n",
    "On vérifie que le container a bien démarré:\n",
    "```bash\n",
    "$ kubectl get pods --namespace=mercado\n",
    "```\n",
    "\n",
    "On ouvre une session interactive et on install fio:\n",
    "```bash\n",
    "$ kubectl exec --namespace=mercado -it $(kubectl get pods --namespace=mercado -o=jsonpath='{.items[0].metadata.name}') -- /bin/sh\n",
    "/ # apk add fio\n",
    "/ # fio --version\n",
    "$ exit # on sort de la session\n",
    "```\n",
    "\n",
    "On va copier un fio-job et un script permettant de run tous les tests:\n",
    "```bash\n",
    "# copy test script\n",
    "$ kubectl --namespace=mercado cp docker/iict/run-all-jobs.sh $(kubectl get pods --namespace=mercado -o=jsonpath='{.items[0].metadata.name}'):/\n",
    "\n",
    "# copy all jobs\n",
    "$ kubectl --namespace=mercado cp docker/iict/fio-jobs/random-read.fio $(kubectl get pods --namespace=mercado -o=jsonpath='{.items[0].metadata.name}'):/\n",
    "$ kubectl --namespace=mercado cp docker/iict/fio-jobs/random-readwrite.fio $(kubectl get pods --namespace=mercado -o=jsonpath='{.items[0].metadata.name}'):/\n",
    "$ kubectl --namespace=mercado cp docker/iict/fio-jobs/random-write.fio $(kubectl get pods --namespace=mercado -o=jsonpath='{.items[0].metadata.name}'):/\n",
    "$ kubectl --namespace=mercado cp docker/iict/fio-jobs/sequential-read.fio $(kubectl get pods --namespace=mercado -o=jsonpath='{.items[0].metadata.name}'):/\n",
    "$ kubectl --namespace=mercado cp docker/iict/fio-jobs/sequential-readwrite.fio $(kubectl get pods --namespace=mercado -o=jsonpath='{.items[0].metadata.name}'):/\n",
    "$ kubectl --namespace=mercado cp docker/iict/fio-jobs/sequential-write.fio $(kubectl get pods --namespace=mercado -o=jsonpath='{.items[0].metadata.name}'):/\n",
    "```\n",
    "\n",
    "Et on exécute les tests:\n",
    "```bash\n",
    "# ouvrir une session interactive\n",
    "kubectl exec --namespace=mercado -it $(kubectl get pods --namespace=mercado -o=jsonpath='{.items[0].metadata.name}') -- /bin/sh\n",
    "sh run-all-jobs.sh\n",
    "exit\n",
    "```\n",
    "\n",
    "On récupère tous les outputs:\n",
    "```bash\n",
    "kubectl --namespace=mercado cp $(kubectl get pods --namespace=mercado -o=jsonpath='{.items[0].metadata.name}'):/random-read.fio-output fio-jobs/iict/random-read.fio-output\n",
    "kubectl --namespace=mercado cp $(kubectl get pods --namespace=mercado -o=jsonpath='{.items[0].metadata.name}'):/random-readwrite.fio-output fio-jobs/iict/random-readwrite.fio-output\n",
    "kubectl --namespace=mercado cp $(kubectl get pods --namespace=mercado -o=jsonpath='{.items[0].metadata.name}'):/random-write.fio-output fio-jobs/iict/random-write.fio-output\n",
    "kubectl --namespace=mercado cp $(kubectl get pods --namespace=mercado -o=jsonpath='{.items[0].metadata.name}'):/sequential-read.fio-output fio-jobs/iict/sequential-read.fio-output\n",
    "kubectl --namespace=mercado cp $(kubectl get pods --namespace=mercado -o=jsonpath='{.items[0].metadata.name}'):/sequential-readwrite.fio-output fio-jobs/iict/sequential-readwrite.fio-output\n",
    "kubectl --namespace=mercado cp $(kubectl get pods --namespace=mercado -o=jsonpath='{.items[0].metadata.name}'):/sequential-write.fio-output fio-jobs/iict/sequential-write.fio-output\n",
    "```\n",
    "\n",
    "Une fois que l'on a terminé, on nettoie:\n",
    "```bash\n",
    "kubectl delete -f iict-fio-benchmark-manual.yaml\n",
    "```"
   ],
   "metadata": {
    "collapsed": false,
    "pycharm": {
     "name": "#%% md\n"
    }
   }
  },
  {
   "cell_type": "markdown",
   "source": [
    "### Image\n",
    "\n",
    "Nous allons déployer une image contenant les scripts de tests et un script d'exécution des tests en quelques lignes. On déploie :\n",
    "\n",
    "```bash\n",
    "$ kubectl apply -f iict-fio-benchmark.yaml\n",
    "```\n",
    "\n",
    "On peut observer l'exécution du container en consultant les logs (ou en allant sur l'UI rancher qui se rafraîchit automatiquement):\n",
    "```bash\n",
    "$ kubectl logs $(kubectl get pods --namespace=mercado -o=jsonpath='{.items[0].metadata.name}') --namespace=mercado\n",
    "```\n",
    "\n",
    "Une fois que les logs affiche `\"All jobs done\"`, alors on peut récupérer les output et nettoyer les ressources:\n",
    "\n",
    "```bash\n",
    "$ sh iict-fio-benchmark-get-output.sh\n",
    "$ kubectl delete -f iict-fio-benchmark.yaml\n",
    "```"
   ],
   "metadata": {
    "collapsed": false,
    "pycharm": {
     "name": "#%% md\n"
    }
   }
  },
  {
   "cell_type": "markdown",
   "source": [
    "Maintenant on va visualiser nos données:\n"
   ],
   "metadata": {
    "collapsed": false,
    "pycharm": {
     "name": "#%% md\n"
    }
   }
  },
  {
   "cell_type": "code",
   "execution_count": 3,
   "outputs": [],
   "source": [
    "# from: https://stackoverflow.com/a/3207973\n",
    "from os import listdir\n",
    "from os.path import isfile, join\n",
    "\n",
    "fio_jobs_path = 'docker/iict/fio-jobs'\n",
    "job_outputs_filename = [f for f in listdir(fio_jobs_path) if isfile(join(fio_jobs_path, f))]"
   ],
   "metadata": {
    "collapsed": false,
    "pycharm": {
     "name": "#%%\n"
    }
   }
  },
  {
   "cell_type": "code",
   "execution_count": 4,
   "outputs": [
    {
     "name": "stdout",
     "output_type": "stream",
     "text": [
      "{'fio version': 'fio-3.27', 'timestamp': 1624980492, 'timestamp_ms': 1624980492334, 'time': 'Tue Jun 29 15:28:12 2021', 'global options': {'name': 'read_bw', 'rw': 'randread', 'randrepeat': '0', 'verify': '0', 'ioengine': 'libaio', 'direct': '1', 'gtod_reduce': '1', 'bs': '128K', 'runtime': '30s', 'iodepth': '16', 'fdatasync': '0', 'size': '250G', 'ramp_time': '10s', 'filename': '/data/fiotest'}, 'jobs': [{'jobname': 'architecting-it-test3-read-bandwidth', 'groupid': 0, 'error': 0, 'eta': 0, 'elapsed': 42, 'read': {'io_bytes': 365559808, 'io_kbytes': 356992, 'bw_bytes': 11796057, 'bw': 11519, 'iops': 89.512746, 'runtime': 30990, 'total_ios': 2774, 'short_ios': 0, 'drop_ios': 0, 'slat_ns': {'min': 0, 'max': 0, 'mean': 0.0, 'stddev': 0.0, 'N': 0}, 'clat_ns': {'min': 0, 'max': 0, 'mean': 0.0, 'stddev': 0.0, 'N': 0}, 'lat_ns': {'min': 0, 'max': 0, 'mean': 0.0, 'stddev': 0.0, 'N': 0}, 'bw_min': 2048, 'bw_max': 25138, 'bw_agg': 100.0, 'bw_mean': 11650.262295, 'bw_dev': 4923.469383, 'bw_samples': 61, 'iops_min': 16, 'iops_max': 196, 'iops_mean': 90.95082, 'iops_stddev': 38.431943, 'iops_samples': 61}, 'write': {'io_bytes': 0, 'io_kbytes': 0, 'bw_bytes': 0, 'bw': 0, 'iops': 0.0, 'runtime': 0, 'total_ios': 0, 'short_ios': 0, 'drop_ios': 0, 'slat_ns': {'min': 0, 'max': 0, 'mean': 0.0, 'stddev': 0.0, 'N': 0}, 'clat_ns': {'min': 0, 'max': 0, 'mean': 0.0, 'stddev': 0.0, 'N': 0}, 'lat_ns': {'min': 0, 'max': 0, 'mean': 0.0, 'stddev': 0.0, 'N': 0}, 'bw_min': 0, 'bw_max': 0, 'bw_agg': 0.0, 'bw_mean': 0.0, 'bw_dev': 0.0, 'bw_samples': 0, 'iops_min': 0, 'iops_max': 0, 'iops_mean': 0.0, 'iops_stddev': 0.0, 'iops_samples': 0}, 'trim': {'io_bytes': 0, 'io_kbytes': 0, 'bw_bytes': 0, 'bw': 0, 'iops': 0.0, 'runtime': 0, 'total_ios': 0, 'short_ios': 0, 'drop_ios': 0, 'slat_ns': {'min': 0, 'max': 0, 'mean': 0.0, 'stddev': 0.0, 'N': 0}, 'clat_ns': {'min': 0, 'max': 0, 'mean': 0.0, 'stddev': 0.0, 'N': 0}, 'lat_ns': {'min': 0, 'max': 0, 'mean': 0.0, 'stddev': 0.0, 'N': 0}, 'bw_min': 0, 'bw_max': 0, 'bw_agg': 0.0, 'bw_mean': 0.0, 'bw_dev': 0.0, 'bw_samples': 0, 'iops_min': 0, 'iops_max': 0, 'iops_mean': 0.0, 'iops_stddev': 0.0, 'iops_samples': 0}, 'sync': {'total_ios': 0, 'lat_ns': {'min': 0, 'max': 0, 'mean': 0.0, 'stddev': 0.0, 'N': 0}}, 'job_runtime': 30989, 'usr_cpu': 0.129078, 'sys_cpu': 0.609894, 'ctx': 2790, 'majf': 0, 'minf': 58, 'iodepth_level': {'1': 0.0, '2': 0.0, '4': 0.0, '8': 0.0, '16': 100.0, '32': 0.0, '>=64': 0.0}, 'iodepth_submit': {'0': 0.0, '4': 100.0, '8': 0.0, '16': 0.0, '32': 0.0, '64': 0.0, '>=64': 0.0}, 'iodepth_complete': {'0': 0.0, '4': 99.963964, '8': 0.0, '16': 0.1, '32': 0.0, '64': 0.0, '>=64': 0.0}, 'latency_ns': {'2': 0.0, '4': 0.0, '10': 0.0, '20': 0.0, '50': 0.0, '100': 0.0, '250': 0.0, '500': 0.0, '750': 0.0, '1000': 0.0}, 'latency_us': {'2': 0.0, '4': 0.0, '10': 0.0, '20': 0.0, '50': 0.0, '100': 0.0, '250': 0.0, '500': 0.0, '750': 0.0, '1000': 0.0}, 'latency_ms': {'2': 0.0, '4': 0.0, '10': 0.0, '20': 0.0, '50': 0.0, '100': 0.0, '250': 0.0, '500': 0.0, '750': 0.0, '1000': 0.0, '2000': 0.0, '>=2000': 0.0}, 'latency_depth': 16, 'latency_target': 0, 'latency_percentile': 100.0, 'latency_window': 0}], 'disk_util': [{'name': 'sde', 'read_ios': 2938, 'write_ios': 152, 'read_merges': 0, 'write_merges': 10, 'read_ticks': 655940, 'write_ticks': 64688, 'in_queue': 722320, 'util': 99.859653}]}\n"
     ]
    }
   ],
   "source": [
    "import json\n",
    "\n",
    "job_outputs = []\n",
    "\n",
    "# Load the results\n",
    "for job_output in job_outputs_filename:\n",
    "    f = open(f\"fio-jobs/iict/{job_output}-output\")\n",
    "    data = json.load(f)\n",
    "    job_outputs.append(data)\n",
    "\n",
    "print(job_outputs[0])\n"
   ],
   "metadata": {
    "collapsed": false,
    "pycharm": {
     "name": "#%%\n"
    }
   }
  },
  {
   "cell_type": "markdown",
   "source": [
    "Note: [google](https://cloud.google.com/compute/docs/disks/benchmarking-pd-performance) persistent disk benchmark"
   ],
   "metadata": {
    "collapsed": false,
    "pycharm": {
     "name": "#%% md\n"
    }
   }
  },
  {
   "cell_type": "markdown",
   "source": [
    "#### Déploiement d'une nouvelle image\n",
    "\n",
    "Pour mettre à jour l'image que le cluster peut utiliser pour benchmark (avec de nouveaux scénarios de tests ou des modifications), on tag un commit de ce repository avec, par exemple :\n",
    "\n",
    "```bash\n",
    "$ git tag # what tag can we use?\n",
    "...\n",
    "v0.1.4\n",
    "v0.1.5\n",
    "v0.1.6\n",
    "v0.1.7\n",
    "\n",
    "$ git tag v0.1.8\n",
    "$ git push origin tag v0.1.8\n",
    "```\n",
    "\n",
    "On patiente un moment que l'image soit mise en ligne puis on peut réaliser notre benchmark.\n",
    "\n",
    "**Note**: La github Action ne build que les images en `v0.*.*` pour le moment.\n"
   ],
   "metadata": {
    "collapsed": false,
    "pycharm": {
     "name": "#%% md\n"
    }
   }
  }
 ],
 "metadata": {
  "kernelspec": {
   "display_name": "Python 3",
   "language": "python",
   "name": "python3"
  },
  "language_info": {
   "codemirror_mode": {
    "name": "ipython",
    "version": 2
   },
   "file_extension": ".py",
   "mimetype": "text/x-python",
   "name": "python",
   "nbconvert_exporter": "python",
   "pygments_lexer": "ipython2",
   "version": "2.7.6"
  }
 },
 "nbformat": 4,
 "nbformat_minor": 0
}