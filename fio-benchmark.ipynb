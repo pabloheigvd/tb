{
 "cells": [
  {
   "cell_type": "markdown",
   "source": [
    "<img src=\"https://upload.wikimedia.org/wikipedia/commons/c/c7/HEIG-VD_Logo_96x29_RVB_ROUGE.png\" alt=\"HEIG-VD Logo\" width=\"250\"/>\n",
    "\n",
    "# TB - DevOps: Mise en place de cloud-native storage\n",
    "## fio benchmark\n",
    "La version de fio utilisée pour chaque benchmark va être explicitement décrite tel que la license morale (section 4 [documentation](https://fio.readthedocs.io/en/latest/fio_doc.html#moral-license) fio) nous recommande."
   ],
   "metadata": {
    "collapsed": false,
    "pycharm": {
     "name": "#%% md\n"
    }
   }
  },
  {
   "cell_type": "markdown",
   "source": [
    "## Local\n",
    "Les résultats de cette section ont été généré à l'aide de fio version 3.16 à l'aide du script `run-all-jobs.sh`."
   ],
   "metadata": {
    "collapsed": false,
    "pycharm": {
     "name": "#%% md\n"
    }
   }
  },
  {
   "cell_type": "code",
   "execution_count": 1,
   "outputs": [],
   "source": [
    "import json\n",
    "\n",
    "job_names = ['randomread', 'randomwrite', 'sequentialread']\n",
    "job_outputs_filename = [f\"{job}.fio-output\" for job in job_names]"
   ],
   "metadata": {
    "collapsed": false,
    "pycharm": {
     "name": "#%%\n"
    }
   }
  },
  {
   "cell_type": "code",
   "execution_count": 2,
   "outputs": [
    {
     "name": "stdout",
     "output_type": "stream",
     "text": [
      "{'fio version': 'fio-3.16', 'timestamp': 1624715980, 'timestamp_ms': 1624715980268, 'time': 'Sat Jun 26 15:59:40 2021', 'global options': {'bs': '4K', 'iodepth': '256', 'direct': '1', 'ioengine': 'libaio', 'runtime': '120', 'numjobs': '4', 'size': '512M', 'name': 'raw-readread', 'rw': 'randread'}, 'jobs': [{'jobname': 'job1', 'groupid': 0, 'error': 0, 'eta': 0, 'elapsed': 121, 'job options': {'filename': '/dev/nvme0n1p7'}, 'read': {'io_bytes': 199040774144, 'io_kbytes': 194375756, 'bw_bytes': 1658617830, 'bw': 1619743, 'iops': 404935.9938, 'runtime': 120004, 'total_ios': 48593939, 'short_ios': 0, 'drop_ios': 0, 'slat_ns': {'min': 728, 'max': 3734933, 'mean': 1513.3561, 'stddev': 1458.146573}, 'clat_ns': {'min': 51367, 'max': 12383842, 'mean': 2526780.637604, 'stddev': 589803.058981, 'percentile': {'1.000000': 733184, '5.000000': 2056192, '10.000000': 2146304, '20.000000': 2211840, '30.000000': 2277376, '40.000000': 2342912, '50.000000': 2408448, '60.000000': 2473984, '70.000000': 2605056, '80.000000': 2867200, '90.000000': 3194880, '95.000000': 3325952, '99.000000': 4079616, '99.500000': 6324224, '99.900000': 7241728, '99.950000': 7766016, '99.990000': 8585216}}, 'lat_ns': {'min': 74221, 'max': 12385301, 'mean': 2528362.219113, 'stddev': 589805.696018}, 'bw_min': 636792, 'bw_max': 1791216, 'bw_agg': 99.992203, 'bw_mean': 1619616.704167, 'bw_dev': 53498.702935, 'bw_samples': 960, 'iops_min': 159198, 'iops_max': 447804, 'iops_mean': 404904.125, 'iops_stddev': 13374.67674, 'iops_samples': 960}, 'write': {'io_bytes': 0, 'io_kbytes': 0, 'bw_bytes': 0, 'bw': 0, 'iops': 0.0, 'runtime': 0, 'total_ios': 0, 'short_ios': 0, 'drop_ios': 0, 'slat_ns': {'min': 0, 'max': 0, 'mean': 0.0, 'stddev': 0.0}, 'clat_ns': {'min': 0, 'max': 0, 'mean': 0.0, 'stddev': 0.0, 'percentile': {'1.000000': 0, '5.000000': 0, '10.000000': 0, '20.000000': 0, '30.000000': 0, '40.000000': 0, '50.000000': 0, '60.000000': 0, '70.000000': 0, '80.000000': 0, '90.000000': 0, '95.000000': 0, '99.000000': 0, '99.500000': 0, '99.900000': 0, '99.950000': 0, '99.990000': 0}}, 'lat_ns': {'min': 0, 'max': 0, 'mean': 0.0, 'stddev': 0.0}, 'bw_min': 0, 'bw_max': 0, 'bw_agg': 0.0, 'bw_mean': 0.0, 'bw_dev': 0.0, 'bw_samples': 0, 'iops_min': 0, 'iops_max': 0, 'iops_mean': 0.0, 'iops_stddev': 0.0, 'iops_samples': 0}, 'trim': {'io_bytes': 0, 'io_kbytes': 0, 'bw_bytes': 0, 'bw': 0, 'iops': 0.0, 'runtime': 0, 'total_ios': 0, 'short_ios': 0, 'drop_ios': 0, 'slat_ns': {'min': 0, 'max': 0, 'mean': 0.0, 'stddev': 0.0}, 'clat_ns': {'min': 0, 'max': 0, 'mean': 0.0, 'stddev': 0.0, 'percentile': {'1.000000': 0, '5.000000': 0, '10.000000': 0, '20.000000': 0, '30.000000': 0, '40.000000': 0, '50.000000': 0, '60.000000': 0, '70.000000': 0, '80.000000': 0, '90.000000': 0, '95.000000': 0, '99.000000': 0, '99.500000': 0, '99.900000': 0, '99.950000': 0, '99.990000': 0}}, 'lat_ns': {'min': 0, 'max': 0, 'mean': 0.0, 'stddev': 0.0}, 'bw_min': 0, 'bw_max': 0, 'bw_agg': 0.0, 'bw_mean': 0.0, 'bw_dev': 0.0, 'bw_samples': 0, 'iops_min': 0, 'iops_max': 0, 'iops_mean': 0.0, 'iops_stddev': 0.0, 'iops_samples': 0}, 'sync': {'lat_ns': {'min': 0, 'max': 0, 'mean': 0.0, 'stddev': 0.0, 'percentile': {'1.000000': 0, '5.000000': 0, '10.000000': 0, '20.000000': 0, '30.000000': 0, '40.000000': 0, '50.000000': 0, '60.000000': 0, '70.000000': 0, '80.000000': 0, '90.000000': 0, '95.000000': 0, '99.000000': 0, '99.500000': 0, '99.900000': 0, '99.950000': 0, '99.990000': 0}}, 'total_ios': 0}, 'job_runtime': 480012, 'usr_cpu': 10.843271, 'sys_cpu': 24.872503, 'ctx': 29654162, 'majf': 0, 'minf': 1066, 'iodepth_level': {'1': 0.1, '2': 0.1, '4': 0.1, '8': 0.1, '16': 0.1, '32': 0.1, '>=64': 99.999481}, 'iodepth_submit': {'0': 0.0, '4': 100.0, '8': 0.0, '16': 0.0, '32': 0.0, '64': 0.0, '>=64': 0.0}, 'iodepth_complete': {'0': 0.0, '4': 99.999992, '8': 0.0, '16': 0.0, '32': 0.0, '64': 0.0, '>=64': 0.1}, 'latency_ns': {'2': 0.0, '4': 0.0, '10': 0.0, '20': 0.0, '50': 0.0, '100': 0.0, '250': 0.0, '500': 0.0, '750': 0.0, '1000': 0.0}, 'latency_us': {'2': 0.0, '4': 0.0, '10': 0.0, '20': 0.0, '50': 0.0, '100': 0.01, '250': 0.097697, '500': 0.44507, '750': 0.495023, '1000': 0.483173}, 'latency_ms': {'2': 2.535341, '4': 94.830203, '10': 1.110982, '20': 0.01, '50': 0.0, '100': 0.0, '250': 0.0, '500': 0.0, '750': 0.0, '1000': 0.0, '2000': 0.0, '>=2000': 0.0}, 'latency_depth': 256, 'latency_target': 0, 'latency_percentile': 100.0, 'latency_window': 0}], 'disk_util': [{'name': 'nvme0n1', 'read_ios': 48560936, 'write_ios': 515, 'read_merges': 0, 'write_merges': 414, 'read_ticks': 122555040, 'write_ticks': 408, 'in_queue': 122555510, 'util': 100.0}]}\n"
     ]
    }
   ],
   "source": [
    "job_outputs = []\n",
    "\n",
    "# Load the results\n",
    "for job_output in job_outputs_filename:\n",
    "    f = open(f\"fio-jobs/{job_output}\")\n",
    "    data = json.load(f)\n",
    "    job_outputs.append(data)\n",
    "\n",
    "print(job_outputs[0])"
   ],
   "metadata": {
    "collapsed": false,
    "pycharm": {
     "name": "#%%\n"
    }
   }
  },
  {
   "cell_type": "markdown",
   "source": [
    "## Cluster IICT\n",
    "TODO option directory=???\n",
    "\n",
    "On souhaite déployer un container docker avec un PV dans le cluster IICT. Le container contient l'outil *fio* et un dossier *fio-jobs*.\n",
    "\n",
    "Ayant signé la clause de confidentialité, on ne vas pas publier le repo git\n",
    "\n",
    "`# docker build --tag fiobench . && docker run -d fiobench`\n"
   ],
   "metadata": {
    "collapsed": false,
    "pycharm": {
     "name": "#%% md\n"
    }
   }
  }
 ],
 "metadata": {
  "kernelspec": {
   "display_name": "Python 3",
   "language": "python",
   "name": "python3"
  },
  "language_info": {
   "codemirror_mode": {
    "name": "ipython",
    "version": 2
   },
   "file_extension": ".py",
   "mimetype": "text/x-python",
   "name": "python",
   "nbconvert_exporter": "python",
   "pygments_lexer": "ipython2",
   "version": "2.7.6"
  }
 },
 "nbformat": 4,
 "nbformat_minor": 0
}